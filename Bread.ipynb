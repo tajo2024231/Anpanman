{
  "cells": [
    {
      "cell_type": "markdown",
      "metadata": {
        "id": "view-in-github",
        "colab_type": "text"
      },
      "source": [
        "<a href=\"https://colab.research.google.com/github/tajo2024231/Anpanman/blob/main/Bread.ipynb\" target=\"_parent\"><img src=\"https://colab.research.google.com/assets/colab-badge.svg\" alt=\"Open In Colab\"/></a>"
      ]
    },
    {
      "cell_type": "code",
      "execution_count": null,
      "metadata": {
        "id": "JqXdVcD3pE2_"
      },
      "outputs": [],
      "source": [
        "import random\n",
        "import math\n",
        "import tkinter as tk\n",
        "\n",
        "class Application(tk.Frame):\n",
        "    def __init__(self, master):\n",
        "        super().__init__(master)\n",
        "        self.master.geometry(\"800x600\")\n",
        "        self.create_widget()\n",
        "\n",
        "    def create_widget(self) :\n",
        "        self.canvas = tk.Canvas(self.master, width=\"800\", height=\"600\", bg=\"#ffffff\")\n",
        "        self.canvas.place(x=0, y=0)\n",
        "        self.num = -1\n",
        "        self.nx = 0\n",
        "        self.ny = 0\n",
        "        self.A = [[-10,-10],[-10,-5],[-10,5],[-10,10],\n",
        "                  [-5,-10],[-5,-5],[-5,5],[-5,10],\n",
        "                  [5,-10],[5,-5],[5,5],[5,10],\n",
        "                  [10,-10],[10,-5],[10,5],[10,10]]\n",
        "        self.create()\n",
        "        self.move()\n",
        "\n",
        "    def create(self) :\n",
        "        self.num += 1\n",
        "        self.canvas.delete(\"anpanman\")\n",
        "        if self.num % 4 == 0 : self.create_anpanman_1()\n",
        "        elif self.num % 4 == 1 : self.create_anpanman_2()\n",
        "        elif self.num % 4 == 2 : self.create_anpanman_3()\n",
        "        else : self.create_anpanman_4()\n",
        "        self.canvas.moveto(\"anpanman\", self.nx, self.ny)\n",
        "        self.master.after(100, self.create)\n",
        "\n",
        "    def move(self) :\n",
        "        while(True) :\n",
        "            if 0 <= self.nx +  self.A[0][0] <= 760  and  0 <= self.ny + self.A[0][1] <= 550 :\n",
        "                self.nx += self.A[0][0]\n",
        "                self.ny += self.A[0][1]\n",
        "                break\n",
        "            random.shuffle(self.A)\n",
        "        self.master.after(25, self.move)\n",
        "\n",
        "    def create_anpanman_1(self) :\n",
        "        self.canvas.create_oval(0,0,40,40,fill=\"#deb068\", tag=\"anpanman\")\n",
        "        self.canvas.create_oval(5,42,35,50,fill=\"#202020\", tag=\"anpanman\")\n",
        "        self.canvas.create_oval(0,0,40,40,fill=\"#deb068\", tag=\"anpanman\")\n",
        "        self.canvas.create_oval(14,10,16,15,fill=\"#000000\", tag=\"anpanman\")\n",
        "        self.canvas.create_oval(24,10,26,15,fill=\"#000000\", tag=\"anpanman\")\n",
        "        self.canvas.create_oval(5,17,15,27,fill=\"#ff4500\", tag=\"anpanman\")\n",
        "        self.canvas.create_oval(25,17,35,27,fill=\"#ff4500\", tag=\"anpanman\")\n",
        "        self.canvas.create_oval(14,17,26,27,fill=\"#ff0000\", tag=\"anpanman\")\n",
        "        self.canvas.create_arc(15,25,25,35,fill=\"#c71585\", extent=-180, tag=\"anpanman\")\n",
        "\n",
        "    def create_anpanman_2(self) :\n",
        "        self.canvas.create_oval(0,0,40,40,fill=\"#deb068\", tag=\"anpanman\")\n",
        "        self.canvas.create_oval(5,42,35,50,fill=\"#202020\", tag=\"anpanman\")\n",
        "        self.canvas.create_oval(0,0,40,40,fill=\"#deb068\", tag=\"anpanman\")\n",
        "        self.canvas.create_oval(5,10,7,15,fill=\"#000000\", tag=\"anpanman\")\n",
        "        self.canvas.create_oval(4,17,14,27,fill=\"#ff4500\", tag=\"anpanman\")\n",
        "        self.canvas.create_oval(-5,17,5,27,fill=\"#ff0000\", tag=\"anpanman\")\n",
        "        self.canvas.create_arc(4,24,14,34,fill=\"#c71585\", start=180,extent=90, tag=\"anpanman\")\n",
        "\n",
        "    def create_anpanman_3(self) :\n",
        "        self.canvas.create_oval(0,0,40,40,fill=\"#deb068\", tag=\"anpanman\")\n",
        "        self.canvas.create_oval(5,42,35,50,fill=\"#202020\", tag=\"anpanman\")\n",
        "        self.canvas.create_oval(0,0,40,40,fill=\"#deb068\", tag=\"anpanman\")\n",
        "\n",
        "    def create_anpanman_4(self) :\n",
        "        self.canvas.create_oval(0,0,40,40,fill=\"#deb068\", tag=\"anpanman\")\n",
        "        self.canvas.create_oval(5,42,35,50,fill=\"#202020\", tag=\"anpanman\")\n",
        "        self.canvas.create_oval(0,0,40,40,fill=\"#deb068\", tag=\"anpanman\")\n",
        "        self.canvas.create_oval(33,10,35,15,fill=\"#000000\", tag=\"anpanman\")\n",
        "        self.canvas.create_oval(26,17,36,27,fill=\"#ff4500\", tag=\"anpanman\")\n",
        "        self.canvas.create_oval(35,17,45,27,fill=\"#ff0000\", tag=\"anpanman\")\n",
        "        self.canvas.create_arc(26,24,36,34,fill=\"#c71585\", start=0,extent=-90, tag=\"anpanman\")\n",
        "\n",
        "if __name__ == \"__main__\":\n",
        "    root = tk.Tk()\n",
        "    myapp = Application(master = root)\n",
        "    myapp.mainloop()"
      ]
    }
  ],
  "metadata": {
    "colab": {
      "provenance": [],
      "include_colab_link": true
    },
    "kernelspec": {
      "display_name": "Python 3 (ipykernel)",
      "language": "python",
      "name": "python3"
    },
    "language_info": {
      "codemirror_mode": {
        "name": "ipython",
        "version": 3
      },
      "file_extension": ".py",
      "mimetype": "text/x-python",
      "name": "python",
      "nbconvert_exporter": "python",
      "pygments_lexer": "ipython3",
      "version": "3.12.7"
    }
  },
  "nbformat": 4,
  "nbformat_minor": 0
}